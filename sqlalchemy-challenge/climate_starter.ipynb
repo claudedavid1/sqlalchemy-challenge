{
 "cells": [
  {
   "cell_type": "code",
   "execution_count": 10,
   "metadata": {},
   "outputs": [],
   "source": [
    "%matplotlib inline\n",
    "from matplotlib import style\n",
    "style.use('fivethirtyeight')\n",
    "import matplotlib.pyplot as plt"
   ]
  },
  {
   "cell_type": "code",
   "execution_count": 11,
   "metadata": {},
   "outputs": [],
   "source": [
    "import numpy as np\n",
    "import pandas as pd"
   ]
  },
  {
   "cell_type": "code",
   "execution_count": 12,
   "metadata": {},
   "outputs": [],
   "source": [
    "import datetime as dt"
   ]
  },
  {
   "cell_type": "markdown",
   "metadata": {},
   "source": [
    "# Reflect Tables into SQLAlchemy ORM"
   ]
  },
  {
   "cell_type": "code",
   "execution_count": 13,
   "metadata": {},
   "outputs": [],
   "source": [
    "# Python SQL toolkit and Object Relational Mapper\n",
    "import sqlalchemy\n",
    "from sqlalchemy.ext.automap import automap_base\n",
    "from sqlalchemy.orm import Session\n",
    "from sqlalchemy import create_engine, func"
   ]
  },
  {
   "cell_type": "code",
   "execution_count": 14,
   "metadata": {},
   "outputs": [],
   "source": [
    "engine = create_engine(\"sqlite:///Resources/hawaii.sqlite\")"
   ]
  },
  {
   "cell_type": "code",
   "execution_count": 15,
   "metadata": {},
   "outputs": [],
   "source": [
    "# reflect an existing database into a new model\n",
    "Base = automap_base()\n",
    "# reflect the tables\n",
    "Base.prepare(engine, reflect=True)"
   ]
  },
  {
   "cell_type": "code",
   "execution_count": 16,
   "metadata": {},
   "outputs": [
    {
     "data": {
      "text/plain": [
       "['measurement', 'station']"
      ]
     },
     "execution_count": 16,
     "metadata": {},
     "output_type": "execute_result"
    }
   ],
   "source": [
    "# We can view all of the classes that automap found\n",
    "Base.classes.keys()"
   ]
  },
  {
   "cell_type": "code",
   "execution_count": 17,
   "metadata": {},
   "outputs": [],
   "source": [
    "# Save references to each table\n",
    "Measurement = Base.classes.measurement\n",
    "Station = Base.classes.station"
   ]
  },
  {
   "cell_type": "code",
   "execution_count": 18,
   "metadata": {},
   "outputs": [],
   "source": [
    "# Create our session (link) from Python to the DB\n",
    "session = Session(engine)"
   ]
  },
  {
   "cell_type": "markdown",
   "metadata": {},
   "source": [
    "# Exploratory Climate Analysis"
   ]
  },
  {
   "cell_type": "code",
   "execution_count": 20,
   "metadata": {},
   "outputs": [
    {
     "data": {
      "text/plain": [
       "<matplotlib.axes._subplots.AxesSubplot at 0x1025abd68>"
      ]
     },
     "execution_count": 20,
     "metadata": {},
     "output_type": "execute_result"
    },
    {
     "data": {
      "image/png": "[encoded data removed]",
      "text/plain": [
       "<Figure size 432x288 with 1 Axes>"
      ]
     },
     "metadata": {},
     "output_type": "display_data"
    }
   ],
   "source": [
    "# Design a query to retrieve the last 12 months of precipitation data and plot the results\n",
    "latestDate = (session.query(Measurement.date)\n",
    "                     .order_by(Measurement.date.desc())\n",
    "                     .first())\n",
    "\n",
    "# Calculate the date 1 year ago from the last data point in the database\n",
    "\n",
    "# Extract string from query object\n",
    "latestDate = list(np.ravel(latestDate))[0]\n",
    "# Convert date string to datetime object\n",
    "latestDate = dt.datetime.strptime(latestDate, '%Y-%m-%d')\n",
    "\n",
    "# Perform a query to retrieve the data and precipitation scores\n",
    "# Extract year, month, and day as integers\n",
    "latestYear = int(dt.datetime.strftime(latestDate, '%Y'))\n",
    "latestMonth = int(dt.datetime.strftime(latestDate, '%m'))\n",
    "latestDay = int(dt.datetime.strftime(latestDate, '%d'))\n",
    "\n",
    "# Save the query results as a Pandas DataFrame and set the index to the date column\n",
    "\n",
    "# Sort the dataframe by date\n",
    "# Calculate one year before latest date\n",
    "yearBefore = dt.date(latestYear, latestMonth, latestDay) - dt.timedelta(days=365)\n",
    "# Query for dates and precipitation for the latest year\n",
    "rainData = (session.query(Measurement.date, Measurement.prcp)\n",
    "                  .filter(Measurement.date > yearBefore)\n",
    "                  .order_by(Measurement.date)\n",
    "                  .all())\n",
    "# Convert query object to data frame and set index\n",
    "rainTable = pd.DataFrame(rainData)\n",
    "rainTable = rainTable.set_index('date')\n",
    "\n",
    "# Sort by date\n",
    "rainTable = rainTable.sort_index(ascending=True)\n",
    "# Use Pandas Plotting with Matplotlib to plot the data\n",
    "rainTable.plot(title=\"Precipitation: 8/23/16 - 8/23/17\")"
   ]
  },
  {
   "cell_type": "markdown",
   "metadata": {},
   "source": [
    "![precipitation](Images/precipitation.png)"
   ]
  },
  {
   "cell_type": "code",
   "execution_count": 21,
   "metadata": {},
   "outputs": [
    {
     "data": {
      "text/html": [
       "<div>\n",
       "<style scoped>\n",
       "    .dataframe tbody tr th:only-of-type {\n",
       "        vertical-align: middle;\n",
       "    }\n",
       "\n",
       "    .dataframe tbody tr th {\n",
       "        vertical-align: top;\n",
       "    }\n",
       "\n",
       "    .dataframe thead th {\n",
       "        text-align: right;\n",
       "    }\n",
       "</style>\n",
       "<table border=\"1\" class=\"dataframe\">\n",
       "  <thead>\n",
       "    <tr style=\"text-align: right;\">\n",
       "      <th></th>\n",
       "      <th>prcp</th>\n",
       "    </tr>\n",
       "  </thead>\n",
       "  <tbody>\n",
       "    <tr>\n",
       "      <th>count</th>\n",
       "      <td>2015.000000</td>\n",
       "    </tr>\n",
       "    <tr>\n",
       "      <th>mean</th>\n",
       "      <td>0.176462</td>\n",
       "    </tr>\n",
       "    <tr>\n",
       "      <th>std</th>\n",
       "      <td>0.460288</td>\n",
       "    </tr>\n",
       "    <tr>\n",
       "      <th>min</th>\n",
       "      <td>0.000000</td>\n",
       "    </tr>\n",
       "    <tr>\n",
       "      <th>25%</th>\n",
       "      <td>0.000000</td>\n",
       "    </tr>\n",
       "    <tr>\n",
       "      <th>50%</th>\n",
       "      <td>0.020000</td>\n",
       "    </tr>\n",
       "    <tr>\n",
       "      <th>75%</th>\n",
       "      <td>0.130000</td>\n",
       "    </tr>\n",
       "    <tr>\n",
       "      <th>max</th>\n",
       "      <td>6.700000</td>\n",
       "    </tr>\n",
       "  </tbody>\n",
       "</table>\n",
       "</div>"
      ],
      "text/plain": [
       "              prcp\n",
       "count  2015.000000\n",
       "mean      0.176462\n",
       "std       0.460288\n",
       "min       0.000000\n",
       "25%       0.000000\n",
       "50%       0.020000\n",
       "75%       0.130000\n",
       "max       6.700000"
      ]
     },
     "execution_count": 21,
     "metadata": {},
     "output_type": "execute_result"
    }
   ],
   "source": [
    "# Use Pandas to calcualte the summary statistics for the precipitation data\n",
    "rainTable.describe()"
   ]
  },
  {
   "cell_type": "markdown",
   "metadata": {},
   "source": [
    "![describe](Images/describe.png)"
   ]
  },
  {
   "cell_type": "code",
   "execution_count": 22,
   "metadata": {},
   "outputs": [
    {
     "name": "stdout",
     "output_type": "stream",
     "text": [
      "Station Count: 9\n"
     ]
    }
   ],
   "source": [
    "# Design a query to show how many stations are available in this dataset?\n",
    "stationsCount = session.query(Station).count()\n",
    "print(f\"Station Count: {stationsCount}\")"
   ]
  },
  {
   "cell_type": "code",
   "execution_count": 23,
   "metadata": {},
   "outputs": [
    {
     "data": {
      "text/plain": [
       "[('USC00519281', 2772),\n",
       " ('USC00519397', 2724),\n",
       " ('USC00513117', 2709),\n",
       " ('USC00519523', 2669),\n",
       " ('USC00516128', 2612),\n",
       " ('USC00514830', 2202),\n",
       " ('USC00511918', 1979),\n",
       " ('USC00517948', 1372),\n",
       " ('USC00518838', 511)]"
      ]
     },
     "execution_count": 23,
     "metadata": {},
     "output_type": "execute_result"
    }
   ],
   "source": [
    "# What are the most active stations? (i.e. what stations have the most rows)?\n",
    "# List the stations and the counts in descending order.\n",
    "stationCounts = (session.query(Measurement.station, func.count(Measurement.station))\n",
    "                        .group_by(Measurement.station)\n",
    "                        .order_by(func.count(Measurement.station).desc())\n",
    "                        .all())\n",
    "stationCounts"
   ]
  },
  {
   "cell_type": "code",
   "execution_count": 24,
   "metadata": {},
   "outputs": [
    {
     "name": "stdout",
     "output_type": "stream",
     "text": [
      "The most active station is USC00519281: WAIHEE 837.5, HI US.\n",
      "The highest temperature recorded there is 85.0 degrees Farenheit.\n",
      "The lowest temperature recorded there is 54.0 degrees Farenheit.\n",
      "The average temperature recorded there is 71.7 degrees Farenheit.\n"
     ]
    }
   ],
   "source": [
    "# Using the station id from the previous query, calculate the lowest temperature recorded, \n",
    "# highest temperature recorded, and average temperature of the most active station?\n",
    "\n",
    "# Set the most active station\n",
    "stationID = stationCounts[0][0]\n",
    "\n",
    "# Query for station name\n",
    "stationName = (session.query(Station.name)\n",
    "                      .filter_by(station = stationID))\n",
    "stationName = stationName[0][0]\n",
    "print(f\"The most active station is {stationID}: {stationName}.\")\n",
    "\n",
    "# Query for highest temperature\n",
    "highestTemp = (session.query(Measurement.tobs)\n",
    "                      .filter(Measurement.station == stationID)\n",
    "                      .order_by(Measurement.tobs.desc())\n",
    "                      .first())\n",
    "highestTemp = highestTemp[0]\n",
    "print(f\"The highest temperature recorded there is {highestTemp} degrees Farenheit.\")\n",
    "\n",
    "# Query for lowest temperature\n",
    "lowestTemp = (session.query(Measurement.tobs)\n",
    "                     .filter(Measurement.station == stationID)\n",
    "                     .order_by(Measurement.tobs.asc())\n",
    "                     .first())\n",
    "lowestTemp = lowestTemp[0]\n",
    "print(f\"The lowest temperature recorded there is {lowestTemp} degrees Farenheit.\")\n",
    "\n",
    "# Query for average temperature\n",
    "avgTemp = (session.query(func.avg(Measurement.tobs))\n",
    "                  .filter(Measurement.station == stationID))\n",
    "avgTemp = '{0:.3}'.format(avgTemp[0][0])\n",
    "print(f\"The average temperature recorded there is {avgTemp} degrees Farenheit.\")\n"
   ]
  },
  {
   "cell_type": "code",
   "execution_count": 25,
   "metadata": {},
   "outputs": [
    {
     "data": {
      "text/plain": [
       "<matplotlib.axes._subplots.AxesSubplot at 0x114de70f0>"
      ]
     },
     "execution_count": 25,
     "metadata": {},
     "output_type": "execute_result"
    },
    {
     "data": {
      "image/png": "[encoded data removed]",
      "text/plain": [
       "<Figure size 432x288 with 1 Axes>"
      ]
     },
     "metadata": {},
     "output_type": "display_data"
    }
   ],
   "source": [
    "# Choose the station with the highest number of temperature observations.\n",
    "# Query the last 12 months of temperature observation data for this station and plot the results as a histogram\n",
    "\n",
    "# Query for the last year of temperature data\n",
    "tempData = (session.query(Measurement.date, Measurement.tobs)\n",
    "                   .filter(Measurement.date > yearBefore)\n",
    "                   .filter(Measurement.station == stationID)\n",
    "                   .order_by(Measurement.date)\n",
    "                   .all())\n",
    "\n",
    "# Convert query object to data frame\n",
    "tempTable = pd.DataFrame(tempData)\n",
    "tempTable = tempTable.set_index('date')\n",
    "\n",
    "# Sory by date\n",
    "tempTable = tempTable.sort_index(ascending=True)\n",
    "\n",
    "#istogram plot with pandas\n",
    "tempTable.plot(kind='hist', bins=12)"
   ]
  },
  {
   "cell_type": "markdown",
   "metadata": {},
   "source": [
    "![precipitation](Images/station-histogram.png)"
   ]
  },
  {
   "cell_type": "code",
   "execution_count": 26,
   "metadata": {},
   "outputs": [
    {
     "name": "stdout",
     "output_type": "stream",
     "text": [
      "[(62.0, 69.57142857142857, 74.0)]\n"
     ]
    }
   ],
   "source": [
    "# This function called `calc_temps` will accept start date and end date in the format '%Y-%m-%d' \n",
    "# and return the minimum, average, and maximum temperatures for that range of dates\n",
    "def calc_temps(start_date, end_date):\n",
    "    \"\"\"TMIN, TAVG, and TMAX for a list of dates.\n",
    "    \n",
    "    Args:\n",
    "        start_date (string): A date string in the format %Y-%m-%d\n",
    "        end_date (string): A date string in the format %Y-%m-%d\n",
    "        \n",
    "    Returns:\n",
    "        TMIN, TAVE, and TMAX\n",
    "    \"\"\"\n",
    "    \n",
    "    return session.query(func.min(Measurement.tobs), func.avg(Measurement.tobs), func.max(Measurement.tobs)).\\\n",
    "        filter(Measurement.date >= start_date).filter(Measurement.date <= end_date).all()\n",
    "\n",
    "# function usage example\n",
    "print(calc_temps('2012-02-28', '2012-03-05'))"
   ]
  },
  {
   "cell_type": "code",
   "execution_count": 27,
   "metadata": {},
   "outputs": [
    {
     "data": {
      "text/plain": [
       "[(67.0, 73.6, 83.0)]"
      ]
     },
     "execution_count": 27,
     "metadata": {},
     "output_type": "execute_result"
    }
   ],
   "source": [
    "# Use your previous function `calc_temps` to calculate the tmin, tavg, and tmax \n",
    "# For your trip using the previous year's data for those same dates.\n",
    "# Set trip dates and previous dates\n",
    "trip = '2019-04-08 to \\n 2019-04-19'\n",
    "tripStartDate = '2017-04-08'\n",
    "tripEndDate = '2017-04-19'\n",
    "\n",
    "# Calculate the tmin, tavg, and tmax \n",
    "tripTemps = calc_temps(tripStartDate, tripEndDate)\n",
    "\n",
    "tripTemps"
   ]
  },
  {
   "cell_type": "code",
   "execution_count": 28,
   "metadata": {},
   "outputs": [
    {
     "data": {
      "image/png": "[encoded data removed]",
      "text/plain": [
       "<Figure size 432x288 with 1 Axes>"
      ]
     },
     "metadata": {},
     "output_type": "display_data"
    }
   ],
   "source": [
    "# Plot the results from your previous query as a bar chart. \n",
    "# Use \"Trip Avg Temp\" as your Title\n",
    "# Use the average temperature for the y value\n",
    "# Use the peak-to-peak (tmax-tmin) value as the y error bar (yerr)\n",
    "\n",
    "minTripTemp = tripTemps[0][0]\n",
    "avgTripTemp = tripTemps[0][1]\n",
    "maxTripTemp = tripTemps[0][2]\n",
    "\n",
    "minError = avgTripTemp - minTripTemp\n",
    "maxError = maxTripTemp - avgTripTemp\n",
    "\n",
    "errorBars = np.array([[minError], [maxError]])\n",
    "\n",
    "plt.bar(trip, avgTripTemp, yerr=errorBars, color = 'orangered', alpha = .6)\n",
    "plt.ylim(0, 100)\n",
    "plt.xlim(-1.5, 1.5)\n",
    "plt.title('Trip Avg Temp')\n",
    "plt.ylabel('Temp (F)')\n",
    "plt.grid(alpha=.3)"
   ]
  },
  {
   "cell_type": "code",
   "execution_count": 29,
   "metadata": {},
   "outputs": [
    {
     "data": {
      "text/html": [
       "<div>\n",
       "<style scoped>\n",
       "    .dataframe tbody tr th:only-of-type {\n",
       "        vertical-align: middle;\n",
       "    }\n",
       "\n",
       "    .dataframe tbody tr th {\n",
       "        vertical-align: top;\n",
       "    }\n",
       "\n",
       "    .dataframe thead th {\n",
       "        text-align: right;\n",
       "    }\n",
       "</style>\n",
       "<table border=\"1\" class=\"dataframe\">\n",
       "  <thead>\n",
       "    <tr style=\"text-align: right;\">\n",
       "      <th></th>\n",
       "      <th>Station</th>\n",
       "      <th>Location</th>\n",
       "      <th>Total Precipitation</th>\n",
       "      <th>Latitude</th>\n",
       "      <th>Longitude</th>\n",
       "      <th>Elevation</th>\n",
       "    </tr>\n",
       "  </thead>\n",
       "  <tbody>\n",
       "    <tr>\n",
       "      <th>0</th>\n",
       "      <td>USC00516128</td>\n",
       "      <td>MANOA LYON ARBO 785.2, HI US</td>\n",
       "      <td>7.38</td>\n",
       "      <td>21.3331</td>\n",
       "      <td>-157.8025</td>\n",
       "      <td>152.4</td>\n",
       "    </tr>\n",
       "    <tr>\n",
       "      <th>1</th>\n",
       "      <td>USC00519281</td>\n",
       "      <td>WAIHEE 837.5, HI US</td>\n",
       "      <td>6.979999999999999</td>\n",
       "      <td>21.45167</td>\n",
       "      <td>-157.84888999999998</td>\n",
       "      <td>32.9</td>\n",
       "    </tr>\n",
       "    <tr>\n",
       "      <th>2</th>\n",
       "      <td>USC00513117</td>\n",
       "      <td>KANEOHE 838.1, HI US</td>\n",
       "      <td>2.48</td>\n",
       "      <td>21.4234</td>\n",
       "      <td>-157.8015</td>\n",
       "      <td>14.6</td>\n",
       "    </tr>\n",
       "    <tr>\n",
       "      <th>3</th>\n",
       "      <td>USC00514830</td>\n",
       "      <td>KUALOA RANCH HEADQUARTERS 886.9, HI US</td>\n",
       "      <td>0.86</td>\n",
       "      <td>21.5213</td>\n",
       "      <td>-157.8374</td>\n",
       "      <td>7.0</td>\n",
       "    </tr>\n",
       "    <tr>\n",
       "      <th>4</th>\n",
       "      <td>USC00519523</td>\n",
       "      <td>WAIMANALO EXPERIMENTAL FARM, HI US</td>\n",
       "      <td>0.8099999999999999</td>\n",
       "      <td>21.33556</td>\n",
       "      <td>-157.71139</td>\n",
       "      <td>19.5</td>\n",
       "    </tr>\n",
       "    <tr>\n",
       "      <th>5</th>\n",
       "      <td>USC00519397</td>\n",
       "      <td>WAIKIKI 717.2, HI US</td>\n",
       "      <td>0.31000000000000005</td>\n",
       "      <td>21.2716</td>\n",
       "      <td>-157.8168</td>\n",
       "      <td>3.0</td>\n",
       "    </tr>\n",
       "    <tr>\n",
       "      <th>6</th>\n",
       "      <td>USC00517948</td>\n",
       "      <td>PEARL CITY, HI US</td>\n",
       "      <td>0.0</td>\n",
       "      <td>21.3934</td>\n",
       "      <td>-157.9751</td>\n",
       "      <td>11.9</td>\n",
       "    </tr>\n",
       "  </tbody>\n",
       "</table>\n",
       "</div>"
      ],
      "text/plain": [
       "       Station                                Location  Total Precipitation  \\\n",
       "0  USC00516128            MANOA LYON ARBO 785.2, HI US                 7.38   \n",
       "1  USC00519281                     WAIHEE 837.5, HI US    6.979999999999999   \n",
       "2  USC00513117                    KANEOHE 838.1, HI US                 2.48   \n",
       "3  USC00514830  KUALOA RANCH HEADQUARTERS 886.9, HI US                 0.86   \n",
       "4  USC00519523      WAIMANALO EXPERIMENTAL FARM, HI US   0.8099999999999999   \n",
       "5  USC00519397                    WAIKIKI 717.2, HI US  0.31000000000000005   \n",
       "6  USC00517948                       PEARL CITY, HI US                  0.0   \n",
       "\n",
       "   Latitude            Longitude Elevation  \n",
       "0   21.3331            -157.8025     152.4  \n",
       "1  21.45167  -157.84888999999998      32.9  \n",
       "2   21.4234            -157.8015      14.6  \n",
       "3   21.5213            -157.8374       7.0  \n",
       "4  21.33556           -157.71139      19.5  \n",
       "5   21.2716            -157.8168       3.0  \n",
       "6   21.3934            -157.9751      11.9  "
      ]
     },
     "execution_count": 29,
     "metadata": {},
     "output_type": "execute_result"
    }
   ],
   "source": [
    "# Calculate the total amount of rainfall per weather station for your trip dates using the previous year's matching dates.\n",
    "# Sort this in descending order by precipitation amount and list the station, name, latitude, longitude, and elevation\n",
    "\n",
    "# Query for precipitation per station on trip dates\n",
    "sel = ([Station.station, \n",
    "        Station.name, \n",
    "        func.sum(Measurement.prcp), \n",
    "        Station.latitude, \n",
    "        Station.longitude, \n",
    "        Station.elevation\n",
    "       ])\n",
    "\n",
    "stationRain = (session.query(*sel)\n",
    "                   .filter(Station.station == Measurement.station)\n",
    "                   .filter(Measurement.date >= tripStartDate)\n",
    "                   .filter(Measurement.date <= tripEndDate)\n",
    "                   .group_by(Station.station)\n",
    "                   .order_by(func.sum(Measurement.prcp).desc())\n",
    "                   .all())\n",
    "\n",
    "# Convert query object to data frame\n",
    "stationRainTable = pd.DataFrame(np.array(stationRain))\n",
    "# Rename columns\n",
    "stationRainTable = stationRainTable.rename(columns={0: \"Station\", 1: \"Location\", \n",
    "                                                    2: \"Total Precipitation\", 3: \"Latitude\", \n",
    "                                                    4: \"Longitude\", 5: \"Elevation\"})\n",
    "\n",
    "stationRainTable"
   ]
  },
  {
   "cell_type": "markdown",
   "metadata": {},
   "source": [
    "## Optional Challenge Assignment"
   ]
  },
  {
   "cell_type": "code",
   "execution_count": 30,
   "metadata": {},
   "outputs": [
    {
     "data": {
      "text/plain": [
       "[(62.0, 69.15384615384616, 77.0)]"
      ]
     },
     "execution_count": 30,
     "metadata": {},
     "output_type": "execute_result"
    }
   ],
   "source": [
    "# Create a query that will calculate the daily normals \n",
    "# (i.e. the averages for tmin, tmax, and tavg for all historic data matching a specific month and day)\n",
    "\n",
    "def daily_normals(date):\n",
    "    \"\"\"Daily Normals.\n",
    "    \n",
    "    Args:\n",
    "        date (str): A date string in the format '%m-%d'\n",
    "        \n",
    "    Returns:\n",
    "        A list of tuples containing the daily normals, tmin, tavg, and tmax\n",
    "    \n",
    "    \"\"\"\n",
    "    \n",
    "    sel = [func.min(Measurement.tobs), func.avg(Measurement.tobs), func.max(Measurement.tobs)]\n",
    "    return session.query(*sel).filter(func.strftime(\"%m-%d\", Measurement.date) == date).all()\n",
    "    \n",
    "daily_normals(\"01-01\")"
   ]
  },
  {
   "cell_type": "code",
   "execution_count": 31,
   "metadata": {},
   "outputs": [
    {
     "data": {
      "text/plain": [
       "[[(66.0, 72.10526315789474, 77.0)],\n",
       " [(62.0, 71.6140350877193, 78.0)],\n",
       " [(64.0, 71.40350877192982, 79.0)],\n",
       " [(65.0, 72.49180327868852, 82.0)],\n",
       " [(65.0, 72.22413793103448, 80.0)],\n",
       " [(64.0, 71.52542372881356, 79.0)],\n",
       " [(65.0, 72.75, 81.0)],\n",
       " [(61.0, 71.79310344827586, 79.0)],\n",
       " [(62.0, 71.55357142857143, 81.0)],\n",
       " [(65.0, 71.93103448275862, 77.0)],\n",
       " [(67.0, 72.49152542372882, 77.0)],\n",
       " [(65.0, 72.42105263157895, 83.0)]]"
      ]
     },
     "execution_count": 31,
     "metadata": {},
     "output_type": "execute_result"
    }
   ],
   "source": [
    "# Set the start and end date for the trip\n",
    "startDate = \"2019-04-08\"\n",
    "endDate = \"2019-04-19\"\n",
    "\n",
    "# Calculate trip length\n",
    "startNum = int(startDate[-2:])\n",
    "endNum = int(endDate[-2:])\n",
    "tripLength = endNum - startNum + 1\n",
    "\n",
    "# Start date as datetime object\n",
    "startDate = dt.datetime.strptime(startDate, '%Y-%m-%d')\n",
    "# List dates (MM-DD) of trip\n",
    "dateList = [dt.datetime.strftime(startDate + dt.timedelta(days = x), '%m-%d') \n",
    "            for x in range(0, tripLength)]\n",
    "\n",
    "# Calculate normals for each date\n",
    "tripNormals = [daily_normals(date) for date in dateList]\n",
    "\n",
    "tripNormals"
   ]
  },
  {
   "cell_type": "code",
   "execution_count": 32,
   "metadata": {},
   "outputs": [
    {
     "data": {
      "text/html": [
       "<div>\n",
       "<style scoped>\n",
       "    .dataframe tbody tr th:only-of-type {\n",
       "        vertical-align: middle;\n",
       "    }\n",
       "\n",
       "    .dataframe tbody tr th {\n",
       "        vertical-align: top;\n",
       "    }\n",
       "\n",
       "    .dataframe thead th {\n",
       "        text-align: right;\n",
       "    }\n",
       "</style>\n",
       "<table border=\"1\" class=\"dataframe\">\n",
       "  <thead>\n",
       "    <tr style=\"text-align: right;\">\n",
       "      <th></th>\n",
       "      <th>Low Temp</th>\n",
       "      <th>Avg Temp</th>\n",
       "      <th>High Temp</th>\n",
       "    </tr>\n",
       "    <tr>\n",
       "      <th>Date</th>\n",
       "      <th></th>\n",
       "      <th></th>\n",
       "      <th></th>\n",
       "    </tr>\n",
       "  </thead>\n",
       "  <tbody>\n",
       "    <tr>\n",
       "      <th>04-08</th>\n",
       "      <td>66.0</td>\n",
       "      <td>72.105263</td>\n",
       "      <td>77.0</td>\n",
       "    </tr>\n",
       "    <tr>\n",
       "      <th>04-09</th>\n",
       "      <td>62.0</td>\n",
       "      <td>71.614035</td>\n",
       "      <td>78.0</td>\n",
       "    </tr>\n",
       "    <tr>\n",
       "      <th>04-10</th>\n",
       "      <td>64.0</td>\n",
       "      <td>71.403509</td>\n",
       "      <td>79.0</td>\n",
       "    </tr>\n",
       "    <tr>\n",
       "      <th>04-11</th>\n",
       "      <td>65.0</td>\n",
       "      <td>72.491803</td>\n",
       "      <td>82.0</td>\n",
       "    </tr>\n",
       "    <tr>\n",
       "      <th>04-12</th>\n",
       "      <td>65.0</td>\n",
       "      <td>72.224138</td>\n",
       "      <td>80.0</td>\n",
       "    </tr>\n",
       "    <tr>\n",
       "      <th>04-13</th>\n",
       "      <td>64.0</td>\n",
       "      <td>71.525424</td>\n",
       "      <td>79.0</td>\n",
       "    </tr>\n",
       "    <tr>\n",
       "      <th>04-14</th>\n",
       "      <td>65.0</td>\n",
       "      <td>72.750000</td>\n",
       "      <td>81.0</td>\n",
       "    </tr>\n",
       "    <tr>\n",
       "      <th>04-15</th>\n",
       "      <td>61.0</td>\n",
       "      <td>71.793103</td>\n",
       "      <td>79.0</td>\n",
       "    </tr>\n",
       "    <tr>\n",
       "      <th>04-16</th>\n",
       "      <td>62.0</td>\n",
       "      <td>71.553571</td>\n",
       "      <td>81.0</td>\n",
       "    </tr>\n",
       "    <tr>\n",
       "      <th>04-17</th>\n",
       "      <td>65.0</td>\n",
       "      <td>71.931034</td>\n",
       "      <td>77.0</td>\n",
       "    </tr>\n",
       "    <tr>\n",
       "      <th>04-18</th>\n",
       "      <td>67.0</td>\n",
       "      <td>72.491525</td>\n",
       "      <td>77.0</td>\n",
       "    </tr>\n",
       "    <tr>\n",
       "      <th>04-19</th>\n",
       "      <td>65.0</td>\n",
       "      <td>72.421053</td>\n",
       "      <td>83.0</td>\n",
       "    </tr>\n",
       "  </tbody>\n",
       "</table>\n",
       "</div>"
      ],
      "text/plain": [
       "       Low Temp   Avg Temp  High Temp\n",
       "Date                                 \n",
       "04-08      66.0  72.105263       77.0\n",
       "04-09      62.0  71.614035       78.0\n",
       "04-10      64.0  71.403509       79.0\n",
       "04-11      65.0  72.491803       82.0\n",
       "04-12      65.0  72.224138       80.0\n",
       "04-13      64.0  71.525424       79.0\n",
       "04-14      65.0  72.750000       81.0\n",
       "04-15      61.0  71.793103       79.0\n",
       "04-16      62.0  71.553571       81.0\n",
       "04-17      65.0  71.931034       77.0\n",
       "04-18      67.0  72.491525       77.0\n",
       "04-19      65.0  72.421053       83.0"
      ]
     },
     "execution_count": 32,
     "metadata": {},
     "output_type": "execute_result"
    }
   ],
   "source": [
    "# Load the previous query results into a Pandas DataFrame and add the `trip_dates` range as the `date` index\n",
    "# Extract normals into a list of lists\n",
    "tripNormals = [np.array(normal[0]) for normal in tripNormals]\n",
    "\n",
    "# Convert normals list into a data frame\n",
    "normalsTable = pd.DataFrame(tripNormals)\n",
    "# Add date column\n",
    "normalsTable[\"Date\"] = dateList\n",
    "# Set index and rename columns\n",
    "normalsTable = normalsTable.set_index(\"Date\")\n",
    "normalsTable = normalsTable.rename(columns={0: \"Low Temp\", 1: \"Avg Temp\", 2: \"High Temp\"})\n",
    "\n",
    "normalsTable"
   ]
  },
  {
   "cell_type": "code",
   "execution_count": 33,
   "metadata": {},
   "outputs": [
    {
     "data": {
      "text/plain": [
       "<matplotlib.axes._subplots.AxesSubplot at 0x114df2f28>"
      ]
     },
     "execution_count": 33,
     "metadata": {},
     "output_type": "execute_result"
    },
    {
     "data": {
      "image/png": "[encoded data removed]",
      "text/plain": [
       "<Figure size 432x288 with 1 Axes>"
      ]
     },
     "metadata": {},
     "output_type": "display_data"
    }
   ],
   "source": [
    "# Plot the daily normals as an area plot with `stacked=False`\n",
    "normalsTable.plot.area(stacked=False, alpha=.333)"
   ]
  },
  {
   "cell_type": "code",
   "execution_count": null,
   "metadata": {},
   "outputs": [],
   "source": []
  }
 ],
 "metadata": {
  "kernel_info": {
   "name": "python3"
  },
  "kernelspec": {
   "display_name": "Python 3",
   "language": "python",
   "name": "python3"
  },
  "language_info": {
   "codemirror_mode": {
    "name": "ipython",
    "version": 3
   },
   "file_extension": ".py",
   "mimetype": "text/x-python",
   "name": "python",
   "nbconvert_exporter": "python",
   "pygments_lexer": "ipython3",
   "version": "3.7.3"
  },
  "nteract": {
   "version": "0.12.3"
  },
  "varInspector": {
   "cols": {
    "lenName": 16,
    "lenType": 16,
    "lenVar": 40
   },
   "kernels_config": {
    "python": {
     "delete_cmd_postfix": "",
     "delete_cmd_prefix": "del ",
     "library": "var_list.py",
     "varRefreshCmd": "print(var_dic_list())"
    },
    "r": {
     "delete_cmd_postfix": ") ",
     "delete_cmd_prefix": "rm(",
     "library": "var_list.r",
     "varRefreshCmd": "cat(var_dic_list()) "
    }
   },
   "types_to_exclude": [
    "module",
    "function",
    "builtin_function_or_method",
    "instance",
    "_Feature"
   ],
   "window_display": false
  }
 },
 "nbformat": 4,
 "nbformat_minor": 2
}
